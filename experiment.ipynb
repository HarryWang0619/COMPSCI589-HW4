{
 "cells": [
  {
   "cell_type": "markdown",
   "metadata": {},
   "source": [
    "# My Playground for Neural Network"
   ]
  },
  {
   "cell_type": "code",
   "execution_count": 559,
   "metadata": {},
   "outputs": [],
   "source": [
    "from utils import *\n",
    "from stratified import *\n",
    "from run import *\n",
    "from neuralnetwork import *"
   ]
  },
  {
   "cell_type": "code",
   "execution_count": 560,
   "metadata": {},
   "outputs": [],
   "source": [
    "def importhousedata():\n",
    "    house = importfile('hw3_house_votes_84.csv', ',')\n",
    "    housecategory = {}\n",
    "    for i in house[0]:\n",
    "        housecategory[i] = 'categorical'\n",
    "    housecategory[\"class\"] = 'class'\n",
    "    housedata = np.array(house[1:]).astype(float)\n",
    "    return housedata, housecategory\n",
    "def importwinedata():\n",
    "    wine = importfile('hw3_wine.csv', '\\t')\n",
    "    winecategory = {}\n",
    "    for i in wine[0]:\n",
    "        winecategory[i] = 'numerical'\n",
    "    winecategory[\"# class\"] = 'class'\n",
    "    winedata = np.array(wine[1:]).astype(float)\n",
    "    return winedata, winecategory\n",
    "def importcmcdata():\n",
    "    cmc = importfile('cmc.data', ',')\n",
    "    cmccategory = {\"Wife's age\":\"numerical\",\"Wife's education\":\"categorical\",\n",
    "    \"Husband's education\":\"categorical\",\"Number of children ever born\":\"numerical\",\n",
    "    \"Wife's religion\":\"binary\",\"Wife's now working?\":\"binary\",\n",
    "    \"Husband's occupation\":\"categorical\",\"Standard-of-living index\":\"categorical\",\n",
    "    \"Media exposure\":\"binary\",\"Contraceptive method used\":\"class\"}\n",
    "    cmcdata = np.array(cmc).astype(int)\n",
    "    return cmcdata, cmccategory\n",
    "def importcancerdata():\n",
    "    cancer = importfile('hw3_cancer.csv', '\\t')\n",
    "    cancercategory = {}\n",
    "    for i in cancer[0]:\n",
    "        cancercategory[i] = 'numerical'\n",
    "    cancercategory[\"Class\"] = 'class'\n",
    "    cancerdata = np.array(cancer[1:]).astype(float)\n",
    "    return cancerdata, cancercategory\n",
    "\n",
    "housedata, housecategory = importhousedata()\n",
    "winedata, winecategory = importwinedata()\n",
    "cmcdata,cmccategory = importcmcdata()\n",
    "cancerdata, cancercategory = importcancerdata()\n",
    "example_category = {'ece': 'numerical','cs': 'categorical','phy': 'categorical','math': 'categorical','musi': 'categorical','grade': 'class'}\n",
    "#example_data = np.array([[100,0,1,1,0,0],[123,1,0,1,1,1],[44,1,0,0,0,2],[92,1,0,1,0,3],[73,0,1,0,0,2]])\n",
    "example_data = np.array([[10,0,1,1,0,0],[23,1,0,1,1,1],[44,1,0,0,0,2],[92,1,0,1,0,3],[73,0,1,0,0,2],[122,0,1,1,0,0],[124,1,0,1,1,1],[44,1,0,0,0,2],[40,1,0,1,0,3],[73,0,1,0,0,2]])"
   ]
  },
  {
   "cell_type": "code",
   "execution_count": 561,
   "metadata": {},
   "outputs": [],
   "source": [
    "ohe_house_data, ohe_house_category = onehotencoder(housedata, housecategory)\n",
    "ohe_wine_data, ohe_wine_category = onehotencoder(winedata,winecategory)\n",
    "ohe_cmc_data, ohe_cmc_category = onehotencoder(cmcdata,cmccategory)\n",
    "ohe_example_data, ohe_example_category = onehotencoder(example_data,example_category)\n",
    "ohe_cancer_data, ohe_cancer_category = onehotencoder(cancerdata,cancercategory)"
   ]
  },
  {
   "cell_type": "code",
   "execution_count": 562,
   "metadata": {},
   "outputs": [],
   "source": [
    "def g(x): # sigmoid function\n",
    "    return np.exp(x) / (1 + np.exp(x))"
   ]
  },
  {
   "cell_type": "code",
   "execution_count": 564,
   "metadata": {},
   "outputs": [],
   "source": [
    "# Forward propagation vectorized\n",
    "def neural_network(normed_hotted_data,ohe_category,weights_list,biasterm=True, minibatchk = 15):\n",
    "    normed_ohe_copy = normed_hotted_data.copy()\n",
    "    np.random.shuffle(normed_ohe_copy)\n",
    "    splitted = np.array_split(normed_ohe_copy, minibatchk)\n",
    "    \n",
    "    inputcategory, outputcategory = [],[]\n",
    "    inputindex, outputindex = [],[]\n",
    "    n = 0\n",
    "    for i in ohe_category:\n",
    "        if ohe_category[i] != 'class_numerical':\n",
    "            inputcategory.append(i) # name of the input category\n",
    "            inputindex.append(n) # index of the input category\n",
    "        else:\n",
    "            outputcategory.append(i) # name of the output category\n",
    "            outputindex.append(n) # index of the output category\n",
    "        n += 1\n",
    "    \n",
    "    b = 1 if biasterm else 0\n",
    "    \n",
    "    for onebatch in splitted:\n",
    "        onebatch = onebatch.T\n",
    "        input_data = onebatch[inputindex].mean(axis=1)\n",
    "        output_data = onebatch[outputindex].mean(axis=1)\n",
    "        input_data = np.append(1,input_data) if b == 1 else input_data\n",
    "\n",
    "        current_layer_a = input_data # input layer is the current layer\n",
    "        current_layer_index = 0\n",
    "        for theta in weights_list:\n",
    "            z = np.dot(theta,current_layer_a)\n",
    "            a = g(z)\n",
    "            current_layer_a = np.append(1,a) if (b == 1) and (current_layer_index+1 != len(weights_list)) else a\n",
    "            current_layer_index += 1\n",
    "        \n",
    "        output_predict = current_layer_a # the last attribute is the output for this batch.\n",
    "        # print(output_predict,'prediction')\n",
    "        # print(output_data,'real')\n",
    "\n",
    "    if b==1: ## Place Holder\n",
    "        c = 1\n",
    "\n",
    "    return input_data"
   ]
  },
  {
   "cell_type": "code",
   "execution_count": 565,
   "metadata": {},
   "outputs": [
    {
     "name": "stdout",
     "output_type": "stream",
     "text": [
      "[[ 1  2  3]\n",
      " [ 4  5  6]\n",
      " [10 11 12]]\n",
      "[ 2.  5. 11.]\n",
      "[ 1.  2.  5. 11.]\n",
      "[[-0.39125814 -0.14376032 -0.07012451]\n",
      " [-0.79244761  0.79572367 -0.00916108]\n",
      " [ 0.67524909 -0.28848506 -0.21878343]\n",
      " [ 0.11429946 -0.89642576 -0.51234574]\n",
      " [ 0.34701911  0.80917362  0.97517135]]\n",
      "[-2.27268752  2.29295121 -2.49854489 -9.88933298 15.46679113]\n"
     ]
    }
   ],
   "source": [
    "w = [[1,2,3],[4,5,6],[7,8,9],[10,11,12]]\n",
    "indice = [0,1,3]\n",
    "w = np.array(w)\n",
    "z = w[indice]\n",
    "print(z)\n",
    "input = z.mean(axis=1)\n",
    "print(input)\n",
    "input_data = np.append(1,input)\n",
    "print(input_data)\n",
    "haihaihai = np.random.rand(5,3) * 2 - 1\n",
    "print(haihaihai)\n",
    "nextz = np.dot(haihaihai,input)\n",
    "print(nextz)"
   ]
  },
  {
   "cell_type": "code",
   "execution_count": 566,
   "metadata": {},
   "outputs": [
    {
     "name": "stdout",
     "output_type": "stream",
     "text": [
      "[4, 5, 4, 2]\n",
      "[0.54340409 0.36880402] prediction\n",
      "[0.68965517 0.31034483] real\n",
      "[0.54308904 0.36944871] prediction\n",
      "[0.68965517 0.31034483] real\n",
      "[0.5424336  0.36883964] prediction\n",
      "[0.65517241 0.34482759] real\n",
      "[0.54253785 0.36926013] prediction\n",
      "[0.65517241 0.34482759] real\n",
      "[0.54412403 0.37088388] prediction\n",
      "[0.62068966 0.37931034] real\n",
      "[0.54308518 0.36830733] prediction\n",
      "[0.55172414 0.44827586] real\n",
      "[0.54412891 0.36976251] prediction\n",
      "[0.51724138 0.48275862] real\n",
      "[0.54363586 0.37010509] prediction\n",
      "[0.51724138 0.48275862] real\n",
      "[0.5442517  0.37007393] prediction\n",
      "[0.5862069 0.4137931] real\n",
      "[0.54254876 0.36940717] prediction\n",
      "[0.62068966 0.37931034] real\n",
      "[0.54315323 0.36858734] prediction\n",
      "[0.68965517 0.31034483] real\n",
      "[0.5437934  0.37081499] prediction\n",
      "[0.55172414 0.44827586] real\n",
      "[0.54300148 0.36958558] prediction\n",
      "[0.62068966 0.37931034] real\n",
      "[0.54201537 0.36904269] prediction\n",
      "[0.5862069 0.4137931] real\n",
      "[0.54197355 0.37026334] prediction\n",
      "[0.65517241 0.34482759] real\n",
      "[1.         0.03448276 0.44827586 0.51724138 0.24137931 0.27586207\n",
      " 0.48275862 0.03448276 0.37931034 0.5862069  0.03448276 0.62068966\n",
      " 0.34482759 0.03448276 0.44827586 0.51724138 0.         0.27586207\n",
      " 0.72413793 0.         0.51724138 0.48275862 0.         0.37931034\n",
      " 0.62068966 0.         0.5862069  0.4137931  0.         0.31034483\n",
      " 0.68965517 0.06896552 0.34482759 0.5862069  0.03448276 0.62068966\n",
      " 0.34482759 0.06896552 0.37931034 0.55172414 0.03448276 0.4137931\n",
      " 0.55172414 0.03448276 0.72413793 0.24137931 0.27586207 0.13793103\n",
      " 0.5862069 ]\n"
     ]
    }
   ],
   "source": [
    "layerdataparameter = [4,5,4] # [First layer, Second layer, Third layer], not including the bias and input & output layer\n",
    "initweights = initialize_weights(ohe_house_category,layerdataparameter)\n",
    "print([len(i) for i in initweights])\n",
    "kk = neural_network(ohe_house_data,ohe_house_category,initweights)\n",
    "print(kk)"
   ]
  },
  {
   "cell_type": "code",
   "execution_count": 567,
   "metadata": {},
   "outputs": [
    {
     "name": "stdout",
     "output_type": "stream",
     "text": [
      "8\n",
      "8\n",
      "[[ 5  6]\n",
      " [ 9 10]\n",
      " [11 12]\n",
      " [15 16]\n",
      " [13 14]]\n"
     ]
    }
   ],
   "source": [
    "k = 5\n",
    "wok = np.array([[1,2],[3,4],[5,6],[7,8],[9,10],[11,12],[13,14],[15,16]])\n",
    "whaha = len(wok)\n",
    "print(whaha)\n",
    "print(wok.shape[0])\n",
    "random_indices = np.random.choice(whaha, size=k, replace=False)\n",
    "random_rows = wok[random_indices]\n",
    "print(random_rows)"
   ]
  },
  {
   "cell_type": "code",
   "execution_count": 568,
   "metadata": {},
   "outputs": [
    {
     "name": "stdout",
     "output_type": "stream",
     "text": [
      "[[-0.17417919 -0.6276403   0.29926067]\n",
      " [ 0.91724862  0.84413524  0.60472753]]\n",
      "[[0.86458526]\n",
      " [0.02755088]\n",
      " [0.31921173]]\n",
      "[[-0.07235728]\n",
      " [ 1.00933243]]\n"
     ]
    }
   ],
   "source": [
    "layernow = 3\n",
    "layernext = 2\n",
    "init_weight = np.random.rand(layernext,layernow) * 2 - 1\n",
    "a_now = np.random.rand(layernow,1)\n",
    "print(init_weight)\n",
    "print(a_now)\n",
    "c = np.dot(init_weight,a_now)\n",
    "print(c)"
   ]
  }
 ],
 "metadata": {
  "interpreter": {
   "hash": "aee8b7b246df8f9039afb4144a1f6fd8d2ca17a180786b69acc140d282b71a49"
  },
  "kernelspec": {
   "display_name": "Python 3.10.0 64-bit",
   "language": "python",
   "name": "python3"
  },
  "language_info": {
   "codemirror_mode": {
    "name": "ipython",
    "version": 3
   },
   "file_extension": ".py",
   "mimetype": "text/x-python",
   "name": "python",
   "nbconvert_exporter": "python",
   "pygments_lexer": "ipython3",
   "version": "3.10.0"
  },
  "orig_nbformat": 4
 },
 "nbformat": 4,
 "nbformat_minor": 2
}
