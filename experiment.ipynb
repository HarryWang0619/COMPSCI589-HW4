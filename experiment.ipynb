{
 "cells": [
  {
   "cell_type": "markdown",
   "metadata": {},
   "source": [
    "# My Playground for Neural Network"
   ]
  },
  {
   "cell_type": "code",
   "execution_count": 549,
   "metadata": {},
   "outputs": [],
   "source": [
    "from utils import *\n",
    "from stratified import *\n",
    "from run import *"
   ]
  },
  {
   "cell_type": "code",
   "execution_count": 550,
   "metadata": {},
   "outputs": [],
   "source": [
    "def importhousedata():\n",
    "    house = importfile('hw3_house_votes_84.csv', ',')\n",
    "    housecategory = {}\n",
    "    for i in house[0]:\n",
    "        housecategory[i] = 'categorical'\n",
    "    housecategory[\"class\"] = 'class'\n",
    "    housedata = np.array(house[1:]).astype(float)\n",
    "    return housedata, housecategory\n",
    "def importwinedata():\n",
    "    wine = importfile('hw3_wine.csv', '\\t')\n",
    "    winecategory = {}\n",
    "    for i in wine[0]:\n",
    "        winecategory[i] = 'numerical'\n",
    "    winecategory[\"# class\"] = 'class'\n",
    "    winedata = np.array(wine[1:]).astype(float)\n",
    "    return winedata, winecategory\n",
    "def importcmcdata():\n",
    "    cmc = importfile('cmc.data', ',')\n",
    "    cmccategory = {\"Wife's age\":\"numerical\",\"Wife's education\":\"categorical\",\n",
    "    \"Husband's education\":\"categorical\",\"Number of children ever born\":\"numerical\",\n",
    "    \"Wife's religion\":\"binary\",\"Wife's now working?\":\"binary\",\n",
    "    \"Husband's occupation\":\"categorical\",\"Standard-of-living index\":\"categorical\",\n",
    "    \"Media exposure\":\"binary\",\"Contraceptive method used\":\"class\"}\n",
    "    cmcdata = np.array(cmc).astype(int)\n",
    "    return cmcdata, cmccategory\n",
    "def importcancerdata():\n",
    "    cancer = importfile('hw3_cancer.csv', '\\t')\n",
    "    cancercategory = {}\n",
    "    for i in cancer[0]:\n",
    "        cancercategory[i] = 'numerical'\n",
    "    cancercategory[\"Class\"] = 'class'\n",
    "    cancerdata = np.array(cancer[1:]).astype(float)\n",
    "    return cancerdata, cancercategory\n",
    "\n",
    "housedata, housecategory = importhousedata()\n",
    "winedata, winecategory = importwinedata()\n",
    "cmcdata,cmccategory = importcmcdata()\n",
    "cancerdata, cancercategory = importcancerdata()\n",
    "example_category = {'ece': 'numerical','cs': 'categorical','phy': 'categorical','math': 'categorical','musi': 'categorical','grade': 'class'}\n",
    "#example_data = np.array([[100,0,1,1,0,0],[123,1,0,1,1,1],[44,1,0,0,0,2],[92,1,0,1,0,3],[73,0,1,0,0,2]])\n",
    "example_data = np.array([[10,0,1,1,0,0],[23,1,0,1,1,1],[44,1,0,0,0,2],[92,1,0,1,0,3],[73,0,1,0,0,2],[122,0,1,1,0,0],[124,1,0,1,1,1],[44,1,0,0,0,2],[40,1,0,1,0,3],[73,0,1,0,0,2]])"
   ]
  },
  {
   "cell_type": "code",
   "execution_count": 551,
   "metadata": {},
   "outputs": [],
   "source": [
    "ohe_house_data, ohe_house_category = onehotencoder(housedata, housecategory)\n",
    "ohe_wine_data, ohe_wine_category = onehotencoder(winedata,winecategory)\n",
    "ohe_cmc_data, ohe_cmc_category = onehotencoder(cmcdata,cmccategory)\n",
    "ohe_example_data, ohe_example_category = onehotencoder(example_data,example_category)\n",
    "ohe_cancer_data, ohe_cancer_category = onehotencoder(cancerdata,cancercategory)"
   ]
  },
  {
   "cell_type": "code",
   "execution_count": 552,
   "metadata": {},
   "outputs": [],
   "source": [
    "def g(x): # sigmoid function\n",
    "    return np.exp(x) / (1 + np.exp(x))"
   ]
  },
  {
   "cell_type": "code",
   "execution_count": 553,
   "metadata": {},
   "outputs": [],
   "source": [
    "def initialize_weights(ohe_category,layer_parameter, biasterm=True):\n",
    "    weight_matrix_list = []\n",
    "\n",
    "    inputcategory, outputcategory = [],[]\n",
    "    inputindex, outputindex = [],[]\n",
    "    n = 0\n",
    "    for i in ohe_category:\n",
    "        if ohe_category[i] != 'class_numerical':\n",
    "            inputcategory.append(i) # name of the input category\n",
    "            inputindex.append(n) # index of the input category\n",
    "        else:\n",
    "            outputcategory.append(i) # name of the output category  \n",
    "            outputindex.append(n) # index of the output category\n",
    "        n += 1\n",
    "    \n",
    "    b = 1 if biasterm == True else 0\n",
    "    \n",
    "    updatedlayerparameterwbias = [len(inputcategory)+b] + list(np.array(layer_parameter)+b) + [len(outputcategory)] # [inputlayer, layerparameters, outputlayer]\n",
    "    for i in range(len(updatedlayerparameterwbias)-1):\n",
    "        layernow = updatedlayerparameterwbias[i]\n",
    "        layernext = updatedlayerparameterwbias[i+1]-1 if i !=len(updatedlayerparameterwbias)-2 else updatedlayerparameterwbias[i+1] \n",
    "        # ^ for the last layer, the bias is not included, so don't need to minus 1 ^\n",
    "        init_weight = np.random.rand(layernext,layernow) * 2 - 1 # initialize the weight with random number between -1 and 1\n",
    "        weight_matrix_list.append(init_weight)\n",
    "        \n",
    "    return weight_matrix_list"
   ]
  },
  {
   "cell_type": "code",
   "execution_count": 554,
   "metadata": {},
   "outputs": [],
   "source": [
    "# Forward propagation vectorized\n",
    "def forward_network(normed_hotted_data,ohe_category,weights_list,biasterm=True, minibatchk = 15):\n",
    "    normed_ohe_copy = normed_hotted_data.copy()\n",
    "    np.random.shuffle(normed_ohe_copy)\n",
    "    splitted = np.array_split(normed_ohe_copy, minibatchk)\n",
    "    # random_indices = np.random.choice(435, size=k, replace=False)\n",
    "    # random_batch = normed_hotted_data[random_indices].T\n",
    "    \n",
    "    inputcategory, outputcategory = [],[]\n",
    "    inputindex, outputindex = [],[]\n",
    "    n = 0\n",
    "    for i in ohe_category:\n",
    "        if ohe_category[i] != 'class_numerical':\n",
    "            inputcategory.append(i) # name of the input category\n",
    "            inputindex.append(n) # index of the input category\n",
    "        else:\n",
    "            outputcategory.append(i) # name of the output category\n",
    "            outputindex.append(n) # index of the output category\n",
    "        n += 1\n",
    "    \n",
    "    b = 1 if biasterm else 0\n",
    "    \n",
    "    for onebatch in splitted:\n",
    "        onebatch = onebatch.T\n",
    "        input_data = onebatch[inputindex].mean(axis=1)\n",
    "        output_data = onebatch[outputindex].mean(axis=1)\n",
    "        input_data = np.append(1,input_data) if b == 1 else input_data\n",
    "\n",
    "        current_layer_a = input_data # input layer is the current layer\n",
    "        current_layer_index = 0\n",
    "        for theta in weights_list:\n",
    "            z = np.dot(theta,current_layer_a)\n",
    "            a = g(z)\n",
    "            current_layer_a = np.append(1,a) if (b == 1) and (current_layer_index+1 != len(weights_list)) else a\n",
    "            current_layer_index += 1\n",
    "        \n",
    "        output_predict = current_layer_a # the last attribute is the output for this batch.\n",
    "        print(output_predict,'prediction')\n",
    "        print(output_data,'real')\n",
    "    # random_batch_input = random_batch[inputindex].mean(axis=1)\n",
    "\n",
    "    \n",
    "    a_lists = [] # list of np.array matrix, attribute of each layer\n",
    "    for i in range(len(weights_list)):\n",
    "        pass\n",
    "\n",
    "    return input_data"
   ]
  },
  {
   "cell_type": "code",
   "execution_count": 555,
   "metadata": {},
   "outputs": [
    {
     "name": "stdout",
     "output_type": "stream",
     "text": [
      "[[ 1  2  3]\n",
      " [ 4  5  6]\n",
      " [10 11 12]]\n",
      "[ 2.  5. 11.]\n",
      "[ 1.  2.  5. 11.]\n",
      "[[-0.27062698  0.88493701  0.55635652]\n",
      " [ 0.01638038 -0.50418971 -0.73809031]\n",
      " [ 0.9601239  -0.38120284  0.2244981 ]\n",
      " [-0.50456158  0.96803643 -0.6060317 ]\n",
      " [ 0.78142564  0.99237342  0.06301358]]\n",
      "[ 10.00335285 -10.60718121   2.48371266  -2.83528972   7.21786775]\n"
     ]
    }
   ],
   "source": [
    "w = [[1,2,3],[4,5,6],[7,8,9],[10,11,12]]\n",
    "indice = [0,1,3]\n",
    "w = np.array(w)\n",
    "z = w[indice]\n",
    "print(z)\n",
    "input = z.mean(axis=1)\n",
    "print(input)\n",
    "input_data = np.append(1,input)\n",
    "print(input_data)\n",
    "haihaihai = np.random.rand(5,3) * 2 - 1\n",
    "print(haihaihai)\n",
    "nextz = np.dot(haihaihai,input)\n",
    "print(nextz)"
   ]
  },
  {
   "cell_type": "code",
   "execution_count": 556,
   "metadata": {},
   "outputs": [
    {
     "name": "stdout",
     "output_type": "stream",
     "text": [
      "[4, 5, 4, 2]\n",
      "[0.54366048 0.5045535 ] prediction\n",
      "[0.5862069 0.4137931] real\n",
      "[0.54542072 0.50507166] prediction\n",
      "[0.48275862 0.51724138] real\n",
      "[0.54692997 0.50450692] prediction\n",
      "[0.51724138 0.48275862] real\n",
      "[0.54308138 0.50560605] prediction\n",
      "[0.51724138 0.48275862] real\n",
      "[0.54376167 0.50358622] prediction\n",
      "[0.65517241 0.34482759] real\n",
      "[0.54300771 0.50387178] prediction\n",
      "[0.79310345 0.20689655] real\n",
      "[0.54519611 0.50630401] prediction\n",
      "[0.68965517 0.31034483] real\n",
      "[0.54461631 0.50455432] prediction\n",
      "[0.72413793 0.27586207] real\n",
      "[0.54237176 0.50546683] prediction\n",
      "[0.65517241 0.34482759] real\n",
      "[0.54430727 0.50610746] prediction\n",
      "[0.55172414 0.44827586] real\n",
      "[0.54196217 0.5062817 ] prediction\n",
      "[0.65517241 0.34482759] real\n",
      "[0.54476617 0.50503369] prediction\n",
      "[0.55172414 0.44827586] real\n",
      "[0.54281787 0.50591947] prediction\n",
      "[0.65517241 0.34482759] real\n",
      "[0.54415555 0.50600066] prediction\n",
      "[0.65517241 0.34482759] real\n",
      "[0.54591066 0.50380454] prediction\n",
      "[0.51724138 0.48275862] real\n",
      "[1.         0.03448276 0.75862069 0.20689655 0.13793103 0.24137931\n",
      " 0.62068966 0.         0.48275862 0.51724138 0.         0.51724138\n",
      " 0.48275862 0.10344828 0.34482759 0.55172414 0.         0.31034483\n",
      " 0.68965517 0.06896552 0.44827586 0.48275862 0.10344828 0.44827586\n",
      " 0.44827586 0.         0.51724138 0.48275862 0.         0.48275862\n",
      " 0.51724138 0.06896552 0.62068966 0.31034483 0.06896552 0.48275862\n",
      " 0.44827586 0.13793103 0.31034483 0.55172414 0.17241379 0.24137931\n",
      " 0.5862069  0.06896552 0.55172414 0.37931034 0.20689655 0.24137931\n",
      " 0.55172414]\n"
     ]
    }
   ],
   "source": [
    "layerdataparameter = [4,5,4] # [First layer, Second layer, Third layer], not including the bias and input & output layer\n",
    "weights = initialize_weights(ohe_house_category,layerdataparameter)\n",
    "print([len(i) for i in weights])\n",
    "kk = forward_network(ohe_house_data,ohe_house_category,weights)\n",
    "print(kk)"
   ]
  },
  {
   "cell_type": "code",
   "execution_count": 557,
   "metadata": {},
   "outputs": [
    {
     "name": "stdout",
     "output_type": "stream",
     "text": [
      "8\n",
      "8\n",
      "[[ 1  2]\n",
      " [ 3  4]\n",
      " [ 7  8]\n",
      " [13 14]\n",
      " [ 5  6]]\n"
     ]
    }
   ],
   "source": [
    "k = 5\n",
    "wok = np.array([[1,2],[3,4],[5,6],[7,8],[9,10],[11,12],[13,14],[15,16]])\n",
    "whaha = len(wok)\n",
    "print(whaha)\n",
    "print(wok.shape[0])\n",
    "random_indices = np.random.choice(whaha, size=k, replace=False)\n",
    "random_rows = wok[random_indices]\n",
    "print(random_rows)"
   ]
  },
  {
   "cell_type": "code",
   "execution_count": 558,
   "metadata": {},
   "outputs": [
    {
     "name": "stdout",
     "output_type": "stream",
     "text": [
      "[[-0.46399656 -0.04384985  0.99950012]\n",
      " [-0.11994951 -0.27985821 -0.74578831]]\n",
      "[[0.76513216]\n",
      " [0.02872369]\n",
      " [0.28336969]]\n",
      "[[-0.07305018]\n",
      " [-0.3111496 ]]\n"
     ]
    }
   ],
   "source": [
    "layernow = 3\n",
    "layernext = 2\n",
    "init_weight = np.random.rand(layernext,layernow) * 2 - 1\n",
    "a_now = np.random.rand(layernow,1)\n",
    "print(init_weight)\n",
    "print(a_now)\n",
    "c = np.dot(init_weight,a_now)\n",
    "print(c)"
   ]
  }
 ],
 "metadata": {
  "interpreter": {
   "hash": "aee8b7b246df8f9039afb4144a1f6fd8d2ca17a180786b69acc140d282b71a49"
  },
  "kernelspec": {
   "display_name": "Python 3.10.0 64-bit",
   "language": "python",
   "name": "python3"
  },
  "language_info": {
   "codemirror_mode": {
    "name": "ipython",
    "version": 3
   },
   "file_extension": ".py",
   "mimetype": "text/x-python",
   "name": "python",
   "nbconvert_exporter": "python",
   "pygments_lexer": "ipython3",
   "version": "3.10.0"
  },
  "orig_nbformat": 4
 },
 "nbformat": 4,
 "nbformat_minor": 2
}
