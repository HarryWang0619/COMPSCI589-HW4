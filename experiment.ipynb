{
 "cells": [
  {
   "cell_type": "markdown",
   "metadata": {},
   "source": [
    "# My Playground for Neural Network"
   ]
  },
  {
   "cell_type": "code",
   "execution_count": 842,
   "metadata": {},
   "outputs": [],
   "source": [
    "from utils import *\n",
    "from stratified import *\n",
    "from run import *\n",
    "from neuralnetwork import *"
   ]
  },
  {
   "cell_type": "code",
   "execution_count": 843,
   "metadata": {},
   "outputs": [],
   "source": [
    "def importhousedata():\n",
    "    house = importfile('hw3_house_votes_84.csv', ',')\n",
    "    housecategory = {}\n",
    "    for i in house[0]:\n",
    "        housecategory[i] = 'categorical'\n",
    "    housecategory[\"class\"] = 'class'\n",
    "    housedata = np.array(house[1:]).astype(float)\n",
    "    return housedata, housecategory\n",
    "def importwinedata():\n",
    "    wine = importfile('hw3_wine.csv', '\\t')\n",
    "    winecategory = {}\n",
    "    for i in wine[0]:\n",
    "        winecategory[i] = 'numerical'\n",
    "    winecategory[\"# class\"] = 'class'\n",
    "    winedata = np.array(wine[1:]).astype(float)\n",
    "    return winedata, winecategory\n",
    "def importcmcdata():\n",
    "    cmc = importfile('cmc.data', ',')\n",
    "    cmccategory = {\"Wife's age\":\"numerical\",\"Wife's education\":\"categorical\",\n",
    "    \"Husband's education\":\"categorical\",\"Number of children ever born\":\"numerical\",\n",
    "    \"Wife's religion\":\"binary\",\"Wife's now working?\":\"binary\",\n",
    "    \"Husband's occupation\":\"categorical\",\"Standard-of-living index\":\"categorical\",\n",
    "    \"Media exposure\":\"binary\",\"Contraceptive method used\":\"class\"}\n",
    "    cmcdata = np.array(cmc).astype(int)\n",
    "    return cmcdata, cmccategory\n",
    "def importcancerdata():\n",
    "    cancer = importfile('hw3_cancer.csv', '\\t')\n",
    "    cancercategory = {}\n",
    "    for i in cancer[0]:\n",
    "        cancercategory[i] = 'numerical'\n",
    "    cancercategory[\"Class\"] = 'class'\n",
    "    cancerdata = np.array(cancer[1:]).astype(float)\n",
    "    return cancerdata, cancercategory\n",
    "\n",
    "housedata, housecategory = importhousedata()\n",
    "winedata, winecategory = importwinedata()\n",
    "cmcdata,cmccategory = importcmcdata()\n",
    "cancerdata, cancercategory = importcancerdata()\n",
    "example_category = {'ece': 'numerical','cs': 'categorical','phy': 'categorical','math': 'categorical','musi': 'categorical','grade': 'class'}\n",
    "#example_data = np.array([[100,0,1,1,0,0],[123,1,0,1,1,1],[44,1,0,0,0,2],[92,1,0,1,0,3],[73,0,1,0,0,2]])\n",
    "example_data = np.array([[10,0,1,1,0,0],[23,1,0,1,1,1],[44,1,0,0,0,2],[92,1,0,1,0,3],[73,0,1,0,0,2],[122,0,1,1,0,0],[124,1,0,1,1,1],[44,1,0,0,0,2],[40,1,0,1,0,3],[73,0,1,0,0,2]])"
   ]
  },
  {
   "cell_type": "code",
   "execution_count": 844,
   "metadata": {},
   "outputs": [],
   "source": [
    "ohe_house_data, ohe_house_category = onehotencoder(housedata, housecategory)\n",
    "ohe_wine_data, ohe_wine_category = onehotencoder(winedata,winecategory)\n",
    "ohe_cmc_data, ohe_cmc_category = onehotencoder(cmcdata,cmccategory)\n",
    "ohe_example_data, ohe_example_category = onehotencoder(example_data,example_category)\n",
    "ohe_cancer_data, ohe_cancer_category = onehotencoder(cancerdata,cancercategory)"
   ]
  },
  {
   "cell_type": "code",
   "execution_count": 845,
   "metadata": {},
   "outputs": [],
   "source": [
    "n_ohe_house_data = normalizetrain(ohe_house_data,ohe_house_category)[0]\n",
    "n_ohe_wine_data = normalizetrain(ohe_wine_data,ohe_wine_category)[0]\n",
    "n_ohe_cmc_data = normalizetrain(ohe_cmc_data,ohe_cmc_category)[0]\n",
    "n_ohe_example_data = normalizetrain(ohe_example_data,ohe_example_category)[0]\n",
    "n_ohe_cancer_data = normalizetrain(ohe_cancer_data,ohe_cancer_category)[0]"
   ]
  },
  {
   "cell_type": "code",
   "execution_count": 846,
   "metadata": {},
   "outputs": [],
   "source": [
    "def g(x): # sigmoid function\n",
    "    return np.exp(x) / (1 + np.exp(x))"
   ]
  },
  {
   "cell_type": "code",
   "execution_count": 847,
   "metadata": {},
   "outputs": [],
   "source": [
    "def transposelistoflist(l):\n",
    "    newlistoflist = []\n",
    "    for i in range(len(l[0])):\n",
    "        newlist = []\n",
    "        for j in range(len(l)):\n",
    "            newlist.append(l[j][i])\n",
    "        newlistoflist.append(newlist)\n",
    "    return newlistoflist"
   ]
  },
  {
   "cell_type": "code",
   "execution_count": 848,
   "metadata": {},
   "outputs": [],
   "source": [
    "def gradientD(weights_list,deltalist,attributelist,biasterm=True):\n",
    "    gradlist = []\n",
    "    for i in range(len(weights_list)):\n",
    "        attributenow = attributelist[i]\n",
    "        deltanow = np.array([deltalist[i]]).T\n",
    "        dotproduct = deltanow*attributenow\n",
    "        # print('dotshape',dotproduct.shape)\n",
    "        gradlist.append(dotproduct)\n",
    "    return gradlist"
   ]
  },
  {
   "cell_type": "code",
   "execution_count": 849,
   "metadata": {},
   "outputs": [],
   "source": [
    "def g(x): # sigmoid function\n",
    "    return 1/(1 + np.exp(-x))"
   ]
  },
  {
   "cell_type": "code",
   "execution_count": 850,
   "metadata": {},
   "outputs": [],
   "source": [
    "# Forward propagation vectorized\n",
    "def neural_network(normed_hotted_data,ohe_category,weights_list,biasterm=True, minibatchk = 435, lambda_reg = 0.08, learning_rate = 0.0001):\n",
    "    normed_ohe_copy = normed_hotted_data.copy()\n",
    "    np.random.shuffle(normed_ohe_copy)\n",
    "    splitted = np.array_split(normed_ohe_copy, minibatchk)\n",
    "    \n",
    "    inputcategory, outputcategory = [],[]\n",
    "    inputindex, outputindex = [],[]\n",
    "    n = 0\n",
    "    for i in ohe_category:\n",
    "        if ohe_category[i] != 'class_numerical':\n",
    "            inputcategory.append(i) # name of the input category\n",
    "            inputindex.append(n) # index of the input category\n",
    "        else:\n",
    "            outputcategory.append(i) # name of the output category\n",
    "            outputindex.append(n) # index of the output category\n",
    "        n += 1\n",
    "    \n",
    "    b = 1 if biasterm else 0\n",
    "    \n",
    "    for onebatch in splitted:\n",
    "        onebatch = onebatch.T\n",
    "        input_data = onebatch[inputindex].T\n",
    "        output_data = onebatch[outputindex].T\n",
    "        # input_data_mean = onebatch[inputindex].mean(axis=1)\n",
    "        output_data = onebatch[outputindex].T\n",
    "\n",
    "        # forward propagation\n",
    "        instance_index = 0\n",
    "        j = 0\n",
    "        listofgradient = []\n",
    "        for one_instance in input_data:\n",
    "            current_layer_a = np.append(1,one_instance) if b == 1 else one_instance\n",
    "            # input layer is the current layer\n",
    "            current_layer_index = 0\n",
    "            output_real = output_data[instance_index]\n",
    "            attributesnobias = [one_instance]\n",
    "            attributeswbias = [current_layer_a]\n",
    "            for theta in weights_list:\n",
    "                z = np.dot(theta,current_layer_a)\n",
    "                a = g(z)\n",
    "                current_layer_a = np.append(1,a) if (b == 1) and (current_layer_index+1 != len(weights_list)) else a\n",
    "                attributesnobias.append(a)\n",
    "                attributeswbias.append(current_layer_a)\n",
    "                current_layer_index += 1\n",
    "\n",
    "            output_predict = current_layer_a # the last attribute is the output for this batch.\n",
    "            instance_index += 1\n",
    "            j += costfunction(output_real,output_predict)\n",
    "\n",
    "            # calculate delta blame (back propagation)\n",
    "            listofdelta = blame(output_real,output_predict,weights_list, attributeswbias)\n",
    "            thisgradient = gradientD(weights_list,listofdelta,attributeswbias,biasterm)\n",
    "            listofgradient.append(thisgradient)\n",
    "        \n",
    "        gradientP = [lambda_reg*t for t in weights_list]\n",
    "        grad_D_transpose = transposelistoflist(listofgradient)\n",
    "        grad_D_sum = [np.sum(t,axis=0) for t in grad_D_transpose]\n",
    "        gradients_batch = []\n",
    "        for i in range(len(grad_D_sum)):\n",
    "            gradients_batch.append((grad_D_sum[i] + gradientP[i])*(1/instance_index))\n",
    "        \n",
    "        j /= (instance_index+1)\n",
    "        s = sumofweights(weights_list,bias=b)*lambda_reg/(2*(instance_index+1))\n",
    "        allj = j+s # total cose with regularization\n",
    "\n",
    "        # update weights\n",
    "        for i in range(len(weights_list)):\n",
    "            weights_list[i] -= learning_rate*gradients_batch[i]\n",
    "\n",
    "    return weights_list, allj, j"
   ]
  },
  {
   "cell_type": "code",
   "execution_count": 851,
   "metadata": {},
   "outputs": [],
   "source": [
    "layerdataparameter = [5,5,5,5,5,5] # [First layer, Second layer, Third layer], not including the bias and input & output layer\n",
    "initweights = initialize_weights(ohe_house_category,layerdataparameter)\n",
    "kk,jj,pj = neural_network(n_ohe_house_data,ohe_house_category,initweights)"
   ]
  },
  {
   "cell_type": "code",
   "execution_count": 852,
   "metadata": {},
   "outputs": [
    {
     "name": "stdout",
     "output_type": "stream",
     "text": [
      "0\n",
      "purej 0.6373585774994234\n",
      "j now is 2.6464630062182892\n",
      "0.027337541403822385\n",
      "1\n",
      "purej 0.6271640809823287\n",
      "j now is 2.621387848259815\n",
      "0.025075157958474037\n",
      "2\n",
      "purej 0.6175979907442336\n",
      "j now is 2.5988147304473705\n",
      "0.022573117812444643\n",
      "3\n",
      "purej 0.6081165271358391\n",
      "j now is 2.578119229548215\n",
      "0.020695500899155395\n",
      "4\n",
      "purej 1.265714992133981\n",
      "j now is 3.2263430127646586\n",
      "0.6482237832164435\n",
      "5\n",
      "purej 0.5923997296559385\n",
      "j now is 2.545372135537003\n",
      "0.6809708772276557\n",
      "6\n",
      "purej 0.5844119118726503\n",
      "j now is 2.5313262248305572\n",
      "0.014045910706445675\n",
      "7\n",
      "purej 0.5775259603768985\n",
      "j now is 2.520008713775241\n",
      "0.01131751105531631\n",
      "8\n",
      "purej 0.5711259272267133\n",
      "j now is 2.5105880140874817\n",
      "0.00942069968775927\n",
      "9\n",
      "purej 0.5648409594285982\n",
      "j now is 2.50252439901546\n",
      "0.00806361507202169\n",
      "10\n",
      "purej 0.559394141940274\n",
      "j now is 2.496484355363295\n",
      "0.006040043652165039\n",
      "11\n",
      "purej 0.5539497092878849\n",
      "j now is 2.4913713793281596\n",
      "0.005112976035135386\n",
      "12\n",
      "purej 1.178652702790391\n",
      "j now is 3.1172953707813544\n",
      "0.6259239914531949\n",
      "13\n",
      "purej 1.1694565901889733\n",
      "j now is 3.109979292907628\n",
      "0.0073160778737264565\n",
      "14\n",
      "purej 1.160556473874386\n",
      "j now is 3.1035580282819257\n",
      "0.00642126462570225\n",
      "15\n",
      "purej 0.5361281722486342\n",
      "j now is 2.4820167345429676\n",
      "0.6215412937389582\n",
      "16\n",
      "purej 0.5324323681017649\n",
      "j now is 2.481683063282241\n",
      "0.0003336712607264758\n",
      "17\n",
      "purej 0.5290090288392447\n",
      "j now is 2.4819425027106834\n",
      "0.0002594394284423096\n",
      "18\n",
      "purej 1.1282359868584482\n",
      "j now is 3.0851821179776078\n",
      "0.6032396152669244\n",
      "19\n",
      "purej 1.1207273310976529\n",
      "j now is 3.0817667547621967\n",
      "0.003415363215411027\n",
      "20\n",
      "purej 1.1135686131613518\n",
      "j now is 3.0787861615514207\n",
      "0.002980593210776039\n",
      "21\n",
      "purej 0.5175780346371032\n",
      "j now is 2.4869486534070817\n",
      "0.591837508144339\n",
      "22\n",
      "purej 1.099955241181573\n",
      "j now is 3.0736339677734295\n",
      "0.5866853143663477\n",
      "23\n",
      "purej 0.5131174065854025\n",
      "j now is 2.4908804699986598\n",
      "0.5827534977747697\n",
      "24\n",
      "purej 1.0873651716268826\n",
      "j now is 3.0693054834330473\n",
      "0.5784250134343876\n",
      "25\n",
      "purej 1.0814080506940686\n",
      "j now is 3.0673227323437455\n",
      "0.001982751089301793\n",
      "26\n",
      "purej 0.5076328528001424\n",
      "j now is 2.4972776681754594\n",
      "0.5700450641682862\n",
      "27\n"
     ]
    }
   ],
   "source": [
    "j_previous = 99\n",
    "epsilon = 80\n",
    "weight, j_now, purej = neural_network(n_ohe_house_data,ohe_house_category,initweights)\n",
    "epsilon = j_previous - j_now\n",
    "j_previous = j_now\n",
    "smallestj = j_now\n",
    "count = 0\n",
    "while epsilon > 0.00001 and j_now >= smallestj:\n",
    "    print(count)\n",
    "    count+=1\n",
    "    weight, j_now, purej = neural_network(n_ohe_house_data,ohe_house_category,weight)\n",
    "    print('purej',purej)\n",
    "    print('j now is',j_now)\n",
    "    smallestj = min(smallestj,j_now)\n",
    "    epsilon = abs(j_previous - j_now)\n",
    "    print(epsilon)\n",
    "    j_previous = j_now"
   ]
  },
  {
   "cell_type": "code",
   "execution_count": null,
   "metadata": {},
   "outputs": [
    {
     "name": "stdout",
     "output_type": "stream",
     "text": [
      "0.5199060581554483\n"
     ]
    }
   ],
   "source": [
    "print(j_now)\n",
    "correctweight = weight"
   ]
  },
  {
   "cell_type": "code",
   "execution_count": null,
   "metadata": {},
   "outputs": [],
   "source": [
    "# def predictusingnetwork(inputdata, category, weight):\n"
   ]
  },
  {
   "cell_type": "code",
   "execution_count": null,
   "metadata": {},
   "outputs": [
    {
     "name": "stdout",
     "output_type": "stream",
     "text": [
      "[[ 0.80209967 -0.66025338 -0.863001  ]\n",
      " [ 0.66490296  0.20841189  0.37449872]]\n",
      "[[0.15182842]\n",
      " [0.90023871]\n",
      " [0.87945888]]\n",
      "[[-1.23157802]\n",
      " [ 0.61792784]]\n"
     ]
    }
   ],
   "source": [
    "layernow = 3\n",
    "layernext = 2\n",
    "init_weight = np.random.rand(layernext,layernow) * 2 - 1\n",
    "a_now = np.random.rand(layernow,1)\n",
    "print(init_weight)\n",
    "print(a_now)\n",
    "c = np.dot(init_weight,a_now)\n",
    "print(c)"
   ]
  }
 ],
 "metadata": {
  "interpreter": {
   "hash": "aee8b7b246df8f9039afb4144a1f6fd8d2ca17a180786b69acc140d282b71a49"
  },
  "kernelspec": {
   "display_name": "Python 3.10.0 64-bit",
   "language": "python",
   "name": "python3"
  },
  "language_info": {
   "codemirror_mode": {
    "name": "ipython",
    "version": 3
   },
   "file_extension": ".py",
   "mimetype": "text/x-python",
   "name": "python",
   "nbconvert_exporter": "python",
   "pygments_lexer": "ipython3",
   "version": "3.10.0"
  },
  "orig_nbformat": 4
 },
 "nbformat": 4,
 "nbformat_minor": 2
}
