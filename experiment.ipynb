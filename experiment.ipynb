{
 "cells": [
  {
   "cell_type": "markdown",
   "metadata": {},
   "source": [
    "# My Playground for Neural Network"
   ]
  },
  {
   "cell_type": "code",
   "execution_count": 697,
   "metadata": {},
   "outputs": [],
   "source": [
    "from utils import *\n",
    "from stratified import *\n",
    "from run import *\n",
    "from neuralnetwork import *"
   ]
  },
  {
   "cell_type": "code",
   "execution_count": 698,
   "metadata": {},
   "outputs": [],
   "source": [
    "def importhousedata():\n",
    "    house = importfile('hw3_house_votes_84.csv', ',')\n",
    "    housecategory = {}\n",
    "    for i in house[0]:\n",
    "        housecategory[i] = 'categorical'\n",
    "    housecategory[\"class\"] = 'class'\n",
    "    housedata = np.array(house[1:]).astype(float)\n",
    "    return housedata, housecategory\n",
    "def importwinedata():\n",
    "    wine = importfile('hw3_wine.csv', '\\t')\n",
    "    winecategory = {}\n",
    "    for i in wine[0]:\n",
    "        winecategory[i] = 'numerical'\n",
    "    winecategory[\"# class\"] = 'class'\n",
    "    winedata = np.array(wine[1:]).astype(float)\n",
    "    return winedata, winecategory\n",
    "def importcmcdata():\n",
    "    cmc = importfile('cmc.data', ',')\n",
    "    cmccategory = {\"Wife's age\":\"numerical\",\"Wife's education\":\"categorical\",\n",
    "    \"Husband's education\":\"categorical\",\"Number of children ever born\":\"numerical\",\n",
    "    \"Wife's religion\":\"binary\",\"Wife's now working?\":\"binary\",\n",
    "    \"Husband's occupation\":\"categorical\",\"Standard-of-living index\":\"categorical\",\n",
    "    \"Media exposure\":\"binary\",\"Contraceptive method used\":\"class\"}\n",
    "    cmcdata = np.array(cmc).astype(int)\n",
    "    return cmcdata, cmccategory\n",
    "def importcancerdata():\n",
    "    cancer = importfile('hw3_cancer.csv', '\\t')\n",
    "    cancercategory = {}\n",
    "    for i in cancer[0]:\n",
    "        cancercategory[i] = 'numerical'\n",
    "    cancercategory[\"Class\"] = 'class'\n",
    "    cancerdata = np.array(cancer[1:]).astype(float)\n",
    "    return cancerdata, cancercategory\n",
    "\n",
    "housedata, housecategory = importhousedata()\n",
    "winedata, winecategory = importwinedata()\n",
    "cmcdata,cmccategory = importcmcdata()\n",
    "cancerdata, cancercategory = importcancerdata()\n",
    "example_category = {'ece': 'numerical','cs': 'categorical','phy': 'categorical','math': 'categorical','musi': 'categorical','grade': 'class'}\n",
    "#example_data = np.array([[100,0,1,1,0,0],[123,1,0,1,1,1],[44,1,0,0,0,2],[92,1,0,1,0,3],[73,0,1,0,0,2]])\n",
    "example_data = np.array([[10,0,1,1,0,0],[23,1,0,1,1,1],[44,1,0,0,0,2],[92,1,0,1,0,3],[73,0,1,0,0,2],[122,0,1,1,0,0],[124,1,0,1,1,1],[44,1,0,0,0,2],[40,1,0,1,0,3],[73,0,1,0,0,2]])"
   ]
  },
  {
   "cell_type": "code",
   "execution_count": 699,
   "metadata": {},
   "outputs": [],
   "source": [
    "ohe_house_data, ohe_house_category = onehotencoder(housedata, housecategory)\n",
    "ohe_wine_data, ohe_wine_category = onehotencoder(winedata,winecategory)\n",
    "ohe_cmc_data, ohe_cmc_category = onehotencoder(cmcdata,cmccategory)\n",
    "ohe_example_data, ohe_example_category = onehotencoder(example_data,example_category)\n",
    "ohe_cancer_data, ohe_cancer_category = onehotencoder(cancerdata,cancercategory)"
   ]
  },
  {
   "cell_type": "code",
   "execution_count": 700,
   "metadata": {},
   "outputs": [],
   "source": [
    "def g(x): # sigmoid function\n",
    "    return np.exp(x) / (1 + np.exp(x))"
   ]
  },
  {
   "cell_type": "code",
   "execution_count": 701,
   "metadata": {},
   "outputs": [],
   "source": [
    "def costfunction(expected_output, actual_output):\n",
    "    j = -np.dot(expected_output,np.log(actual_output) + np.dot((1 - expected_output),np.log(1 - actual_output)))\n",
    "    return j"
   ]
  },
  {
   "cell_type": "code",
   "execution_count": 702,
   "metadata": {},
   "outputs": [],
   "source": [
    "def sumofweights(listofweights,bias=True): # computes the square of all weights of the network and sum them up\n",
    "    sum = 0\n",
    "    for weight in listofweights:\n",
    "        if bias:\n",
    "            sum += np.sum(np.square(weight[1:]))\n",
    "        else:\n",
    "            sum += np.sum(np.square(weight))\n",
    "    return sum"
   ]
  },
  {
   "cell_type": "code",
   "execution_count": 703,
   "metadata": {},
   "outputs": [],
   "source": [
    "# Forward propagation vectorized\n",
    "def neural_network(normed_hotted_data,ohe_category,weights_list,biasterm=True, minibatchk = 15, lambda_reg = 0.1):\n",
    "    normed_ohe_copy = normed_hotted_data.copy()\n",
    "    np.random.shuffle(normed_ohe_copy)\n",
    "    splitted = np.array_split(normed_ohe_copy, minibatchk)\n",
    "    \n",
    "    inputcategory, outputcategory = [],[]\n",
    "    inputindex, outputindex = [],[]\n",
    "    n = 0\n",
    "    for i in ohe_category:\n",
    "        if ohe_category[i] != 'class_numerical':\n",
    "            inputcategory.append(i) # name of the input category\n",
    "            inputindex.append(n) # index of the input category\n",
    "        else:\n",
    "            outputcategory.append(i) # name of the output category\n",
    "            outputindex.append(n) # index of the output category\n",
    "        n += 1\n",
    "    \n",
    "    b = 1 if biasterm else 0\n",
    "    \n",
    "    for onebatch in splitted:\n",
    "        onebatch = onebatch.T\n",
    "        input_data = onebatch[inputindex].T\n",
    "        output_data = onebatch[outputindex].T\n",
    "        # input_data_mean = onebatch[inputindex].mean(axis=1)\n",
    "        output_data = onebatch[outputindex].T\n",
    "\n",
    "        # forward propagation\n",
    "        instance_index = 0\n",
    "        j = 0\n",
    "\n",
    "        for one_instance in input_data:\n",
    "            current_layer_a = np.append(1,one_instance) if b == 1 else one_instance\n",
    "            # input layer is the current layer\n",
    "            current_layer_index = 0\n",
    "            output_real = output_data[instance_index]\n",
    "            attributesnobias = [one_instance]\n",
    "            attributeswbias = [current_layer_a]\n",
    "            for theta in weights_list:\n",
    "                z = np.dot(theta,current_layer_a)\n",
    "                a = g(z)\n",
    "                current_layer_a = np.append(1,a) if (b == 1) and (current_layer_index+1 != len(weights_list)) else a\n",
    "                attributesnobias.append(a)\n",
    "                attributeswbias.append(current_layer_a)\n",
    "                current_layer_index += 1\n",
    "\n",
    "            output_predict = current_layer_a # the last attribute is the output for this batch.\n",
    "            instance_index += 1\n",
    "            j += costfunction(output_real,output_predict)\n",
    "\n",
    "            # calculate delta blame (back propagation)\n",
    "            listofdelta = blame(output_real,output_predict,weights_list, attributeswbias)\n",
    "        \n",
    "        j /= (instance_index+1)\n",
    "        s = sumofweights(weights_list,bias=b)*lambda_reg/(2*(instance_index+1))\n",
    "        j += s # total cose with regularization\n",
    "\n",
    "     \n",
    "    if b==1: ## Place Holder\n",
    "        c = 1\n",
    "\n",
    "    return input_data"
   ]
  },
  {
   "cell_type": "code",
   "execution_count": 710,
   "metadata": {},
   "outputs": [],
   "source": [
    "def gradientD(weights_list,deltalist,attributelist,biasterm=True):\n",
    "    gradlist = []\n",
    "    for i in range(len(weights_list)):\n",
    "        if biasterm:\n",
    "            attributesnow = attributelist[i][1:] # trim out the bias\n",
    "        gradlist.append(np.dot(deltalist[i],attributelist[i].T))\n",
    "    return gradlist"
   ]
  },
  {
   "cell_type": "code",
   "execution_count": 711,
   "metadata": {},
   "outputs": [],
   "source": [
    "layerdataparameter = [4,5,4] # [First layer, Second layer, Third layer], not including the bias and input & output layer\n",
    "initweights = initialize_weights(ohe_house_category,layerdataparameter)\n",
    "kk = neural_network(ohe_house_data,ohe_house_category,initweights)\n",
    "# print(kk)"
   ]
  },
  {
   "cell_type": "code",
   "execution_count": 712,
   "metadata": {},
   "outputs": [
    {
     "name": "stdout",
     "output_type": "stream",
     "text": [
      "(8, 2)\n",
      "8\n",
      "8\n",
      "[[11 12]\n",
      " [13 14]\n",
      " [ 3  4]\n",
      " [15 16]\n",
      " [ 1  2]]\n"
     ]
    }
   ],
   "source": [
    "k = 5\n",
    "wok = np.array([[1,2],[3,4],[5,6],[7,8],[9,10],[11,12],[13,14],[15,16]])\n",
    "print(wok.shape)\n",
    "whaha = len(wok)\n",
    "print(whaha)\n",
    "print(wok.shape[0])\n",
    "random_indices = np.random.choice(whaha, size=k, replace=False)\n",
    "random_rows = wok[random_indices]\n",
    "print(random_rows)"
   ]
  },
  {
   "cell_type": "code",
   "execution_count": 713,
   "metadata": {},
   "outputs": [
    {
     "name": "stdout",
     "output_type": "stream",
     "text": [
      "[[ 0.6585161  -0.2962344   0.75121242]\n",
      " [-0.66596674 -0.95962159  0.01896172]]\n",
      "[[0.24891431]\n",
      " [0.94619909]\n",
      " [0.17806275]]\n",
      "[[ 0.01738031]\n",
      " [-1.07038535]]\n"
     ]
    }
   ],
   "source": [
    "layernow = 3\n",
    "layernext = 2\n",
    "init_weight = np.random.rand(layernext,layernow) * 2 - 1\n",
    "a_now = np.random.rand(layernow,1)\n",
    "print(init_weight)\n",
    "print(a_now)\n",
    "c = np.dot(init_weight,a_now)\n",
    "print(c)"
   ]
  }
 ],
 "metadata": {
  "interpreter": {
   "hash": "aee8b7b246df8f9039afb4144a1f6fd8d2ca17a180786b69acc140d282b71a49"
  },
  "kernelspec": {
   "display_name": "Python 3.10.0 64-bit",
   "language": "python",
   "name": "python3"
  },
  "language_info": {
   "codemirror_mode": {
    "name": "ipython",
    "version": 3
   },
   "file_extension": ".py",
   "mimetype": "text/x-python",
   "name": "python",
   "nbconvert_exporter": "python",
   "pygments_lexer": "ipython3",
   "version": "3.10.0"
  },
  "orig_nbformat": 4
 },
 "nbformat": 4,
 "nbformat_minor": 2
}
