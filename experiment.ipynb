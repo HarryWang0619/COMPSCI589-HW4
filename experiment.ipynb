{
 "cells": [
  {
   "cell_type": "markdown",
   "metadata": {},
   "source": [
    "# My Playground for Neural Network"
   ]
  },
  {
   "cell_type": "code",
   "execution_count": 48,
   "metadata": {},
   "outputs": [],
   "source": [
    "from utils import *\n",
    "from stratified import *\n",
    "from run import *"
   ]
  },
  {
   "cell_type": "code",
   "execution_count": 49,
   "metadata": {},
   "outputs": [],
   "source": [
    "layerdataparameter = [4,5,4] # [First layer, Second layer, Third layer]"
   ]
  },
  {
   "cell_type": "code",
   "execution_count": 50,
   "metadata": {},
   "outputs": [],
   "source": [
    "def importhousedata():\n",
    "    house = importfile('hw3_house_votes_84.csv', ',')\n",
    "    housecategory = {}\n",
    "    for i in house[0]:\n",
    "        housecategory[i] = 'categorical'\n",
    "    housecategory[\"class\"] = 'class'\n",
    "    housedata = np.array(house[1:]).astype(float)\n",
    "    return housedata, housecategory\n",
    "def importwinedata():\n",
    "    wine = importfile('hw3_wine.csv', '\\t')\n",
    "    winecategory = {}\n",
    "    for i in wine[0]:\n",
    "        winecategory[i] = 'numerical'\n",
    "    winecategory[\"# class\"] = 'class'\n",
    "    winedata = np.array(wine[1:]).astype(float)\n",
    "    return winedata, winecategory\n",
    "def importcmcdata():\n",
    "    cmc = importfile('cmc.data', ',')\n",
    "    cmccategory = {\"Wife's age\":\"numerical\",\"Wife's education\":\"categorical\",\n",
    "    \"Husband's education\":\"categorical\",\"Number of children ever born\":\"numerical\",\n",
    "    \"Wife's religion\":\"binary\",\"Wife's now working?\":\"binary\",\n",
    "    \"Husband's occupation\":\"categorical\",\"Standard-of-living index\":\"categorical\",\n",
    "    \"Media exposure\":\"binary\",\"Contraceptive method used\":\"class\"}\n",
    "    cmcdata = np.array(cmc).astype(int)\n",
    "    return cmcdata, cmccategory\n",
    "\n",
    "housedata, housecategory = importhousedata()\n",
    "winedata, winecategory = importwinedata()\n",
    "cmcdata,cmccategory = importcmcdata()\n",
    "example_category = {'ece': 'numerical','cs': 'categorical','phy': 'categorical','math': 'categorical','musi': 'categorical','grade': 'class'}\n",
    "example_data = np.array([[100,0,1,1,0,0],[123,1,0,1,1,1],[44,1,0,0,0,2],[92,1,0,1,0,3],[73,0,1,0,0,2]])"
   ]
  },
  {
   "cell_type": "code",
   "execution_count": 51,
   "metadata": {},
   "outputs": [],
   "source": [
    "ohe_house_data, ohe_house_category = onehotencoder(housedata, housecategory)\n",
    "ohe_wine_data, ohe_wine_category = onehotencoder(winedata,winecategory)\n",
    "ohe_cmc_data, ohe_cmc_category = onehotencoder(cmcdata,cmccategory)\n",
    "ohe_example_data, ohe_example_category = onehotencoder(example_data,example_category)"
   ]
  },
  {
   "cell_type": "code",
   "execution_count": 52,
   "metadata": {},
   "outputs": [],
   "source": [
    "def normalizetrain(data, category): # input data in by row\n",
    "    dataTC = data.T.copy()\n",
    "    minmaxes = []\n",
    "    i = 0\n",
    "    for oneattribute in category:\n",
    "        if category[oneattribute] == 'numerical':\n",
    "            colmin = np.min(dataTC[i])\n",
    "            colmax = np.max(dataTC[i])\n",
    "            singleminmax = [colmin,colmax]\n",
    "            # normalize to 0 to 1\n",
    "            for j in range(len(dataTC[i])):\n",
    "                dataTC[i][j] = (dataTC[i][j] - colmin)/(colmax - colmin)\n",
    "            minmaxes.append(singleminmax)\n",
    "        else:\n",
    "            minmaxes.append([0.0,1.0])\n",
    "        i=i+1\n",
    "    return dataTC.T, category, minmaxes\n",
    "    "
   ]
  },
  {
   "cell_type": "code",
   "execution_count": 53,
   "metadata": {},
   "outputs": [
    {
     "name": "stdout",
     "output_type": "stream",
     "text": [
      "[[0.24242424 0.1875     1.         ... 1.         0.         0.        ]\n",
      " [0.87878788 0.625      1.         ... 1.         0.         0.        ]\n",
      " [0.81818182 0.4375     1.         ... 1.         0.         0.        ]\n",
      " ...\n",
      " [0.6969697  0.5        1.         ... 0.         0.         1.        ]\n",
      " [0.51515152 0.25       1.         ... 0.         0.         1.        ]\n",
      " [0.03030303 0.0625     1.         ... 0.         0.         1.        ]]\n",
      "{\"Wife's age\": 'numerical', 'Number of children ever born': 'numerical', \"Wife's religion\": 'binary', \"Wife's now working?\": 'binary', 'Media exposure': 'binary', \"Wife's education_1\": 'numerical', \"Wife's education_2\": 'numerical', \"Wife's education_3\": 'numerical', \"Wife's education_4\": 'numerical', \"Husband's education_1.0\": 'numerical', \"Husband's education_2.0\": 'numerical', \"Husband's education_3.0\": 'numerical', \"Husband's education_4.0\": 'numerical', \"Husband's occupation_1.0\": 'numerical', \"Husband's occupation_2.0\": 'numerical', \"Husband's occupation_3.0\": 'numerical', \"Husband's occupation_4.0\": 'numerical', 'Standard-of-living index_1.0': 'numerical', 'Standard-of-living index_2.0': 'numerical', 'Standard-of-living index_3.0': 'numerical', 'Standard-of-living index_4.0': 'numerical', 'Contraceptive method used_1.0': 'class_numerical', 'Contraceptive method used_2.0': 'class_numerical', 'Contraceptive method used_3.0': 'class_numerical'}\n",
      "[[16.0, 49.0], [0.0, 16.0], [0.0, 1.0], [0.0, 1.0], [0.0, 1.0], [0.0, 1.0], [0.0, 1.0], [0.0, 1.0], [0.0, 1.0], [0.0, 1.0], [0.0, 1.0], [0.0, 1.0], [0.0, 1.0], [0.0, 1.0], [0.0, 1.0], [0.0, 1.0], [0.0, 1.0], [0.0, 1.0], [0.0, 1.0], [0.0, 1.0], [0.0, 1.0], [0.0, 1.0], [0.0, 1.0], [0.0, 1.0]]\n"
     ]
    }
   ],
   "source": [
    "n_ohe_example_data, n_ohe_example_category, n_ohe_example_minmaxes = normalizetrain(ohe_example_data, ohe_example_category)\n",
    "n_ohe_cmc_data, n_ohe_cmc_category, n_ohe_cmc_minmaxes = normalizetrain(ohe_cmc_data, ohe_cmc_category)\n",
    "print(n_ohe_cmc_data)\n",
    "print(n_ohe_cmc_category)\n",
    "print(n_ohe_cmc_minmaxes)"
   ]
  }
 ],
 "metadata": {
  "interpreter": {
   "hash": "aee8b7b246df8f9039afb4144a1f6fd8d2ca17a180786b69acc140d282b71a49"
  },
  "kernelspec": {
   "display_name": "Python 3.10.0 64-bit",
   "language": "python",
   "name": "python3"
  },
  "language_info": {
   "codemirror_mode": {
    "name": "ipython",
    "version": 3
   },
   "file_extension": ".py",
   "mimetype": "text/x-python",
   "name": "python",
   "nbconvert_exporter": "python",
   "pygments_lexer": "ipython3",
   "version": "3.10.0"
  },
  "orig_nbformat": 4
 },
 "nbformat": 4,
 "nbformat_minor": 2
}
