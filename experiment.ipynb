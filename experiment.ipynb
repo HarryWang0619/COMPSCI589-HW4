{
 "cells": [
  {
   "cell_type": "markdown",
   "metadata": {},
   "source": [
    "# My Playground for Neural Network"
   ]
  },
  {
   "cell_type": "code",
   "execution_count": 102,
   "metadata": {},
   "outputs": [],
   "source": [
    "from utils import *\n",
    "from stratified import *\n",
    "from run import *"
   ]
  },
  {
   "cell_type": "code",
   "execution_count": 103,
   "metadata": {},
   "outputs": [],
   "source": [
    "layerdataparameter = [4,5,4] # [First layer, Second layer, Third layer]"
   ]
  },
  {
   "cell_type": "code",
   "execution_count": 104,
   "metadata": {},
   "outputs": [],
   "source": [
    "def importhousedata():\n",
    "    house = importfile('hw3_house_votes_84.csv', ',')\n",
    "    housecategory = {}\n",
    "    for i in house[0]:\n",
    "        housecategory[i] = 'categorical'\n",
    "    housecategory[\"class\"] = 'class'\n",
    "    housedata = np.array(house[1:]).astype(float)\n",
    "    return housedata, housecategory\n",
    "def importwinedata():\n",
    "    wine = importfile('hw3_wine.csv', '\\t')\n",
    "    winecategory = {}\n",
    "    for i in wine[0]:\n",
    "        winecategory[i] = 'numerical'\n",
    "    winecategory[\"# class\"] = 'class'\n",
    "    winedata = np.array(wine[1:]).astype(float)\n",
    "    return winedata, winecategory\n",
    "def importcmcdata():\n",
    "    cmc = importfile('cmc.data', ',')\n",
    "    cmccategory = {\"Wife's age\":\"numerical\",\"Wife's education\":\"categorical\",\n",
    "    \"Husband's education\":\"categorical\",\"Number of children ever born\":\"numerical\",\n",
    "    \"Wife's religion\":\"binary\",\"Wife's now working?\":\"binary\",\n",
    "    \"Husband's occupation\":\"categorical\",\"Standard-of-living index\":\"categorical\",\n",
    "    \"Media exposure\":\"binary\",\"Contraceptive method used\":\"class\"}\n",
    "    cmcdata = np.array(cmc).astype(int)\n",
    "    return cmcdata, cmccategory\n",
    "def importcancerdata():\n",
    "    cancer = importfile('hw3_cancer.csv', '\\t')\n",
    "    cancercategory = {}\n",
    "    for i in cancer[0]:\n",
    "        cancercategory[i] = 'numerical'\n",
    "    cancercategory[\"Class\"] = 'class'\n",
    "    cancerdata = np.array(cancer[1:]).astype(float)\n",
    "    return cancerdata, cancercategory\n",
    "\n",
    "housedata, housecategory = importhousedata()\n",
    "winedata, winecategory = importwinedata()\n",
    "cmcdata,cmccategory = importcmcdata()\n",
    "cancerdata, cancercategory = importcancerdata()\n",
    "example_category = {'ece': 'numerical','cs': 'categorical','phy': 'categorical','math': 'categorical','musi': 'categorical','grade': 'class'}\n",
    "#example_data = np.array([[100,0,1,1,0,0],[123,1,0,1,1,1],[44,1,0,0,0,2],[92,1,0,1,0,3],[73,0,1,0,0,2]])\n",
    "example_data = np.array([[10,0,1,1,0,0],[23,1,0,1,1,1],[44,1,0,0,0,2],[92,1,0,1,0,3],[73,0,1,0,0,2],[122,0,1,1,0,0],[124,1,0,1,1,1],[44,1,0,0,0,2],[40,1,0,1,0,3],[73,0,1,0,0,2]])\n"
   ]
  },
  {
   "cell_type": "code",
   "execution_count": 105,
   "metadata": {},
   "outputs": [
    {
     "name": "stdout",
     "output_type": "stream",
     "text": [
      "11\n",
      "11\n"
     ]
    }
   ],
   "source": [
    "ohe_house_data, ohe_house_category = onehotencoder(housedata, housecategory)\n",
    "ohe_wine_data, ohe_wine_category = onehotencoder(winedata,winecategory)\n",
    "ohe_cmc_data, ohe_cmc_category = onehotencoder(cmcdata,cmccategory)\n",
    "ohe_example_data, ohe_example_category = onehotencoder(example_data,example_category)\n",
    "ohe_cancer_data, ohe_cancer_category = onehotencoder(cancerdata,cancercategory)\n",
    "print(len(ohe_cancer_category))\n",
    "print(len(ohe_cancer_data.T))\n"
   ]
  }
 ],
 "metadata": {
  "interpreter": {
   "hash": "aee8b7b246df8f9039afb4144a1f6fd8d2ca17a180786b69acc140d282b71a49"
  },
  "kernelspec": {
   "display_name": "Python 3.10.0 64-bit",
   "language": "python",
   "name": "python3"
  },
  "language_info": {
   "codemirror_mode": {
    "name": "ipython",
    "version": 3
   },
   "file_extension": ".py",
   "mimetype": "text/x-python",
   "name": "python",
   "nbconvert_exporter": "python",
   "pygments_lexer": "ipython3",
   "version": "3.10.0"
  },
  "orig_nbformat": 4
 },
 "nbformat": 4,
 "nbformat_minor": 2
}
