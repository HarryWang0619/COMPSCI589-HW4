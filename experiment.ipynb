{
 "cells": [
  {
   "cell_type": "markdown",
   "metadata": {},
   "source": [
    "# My Playground for Neural Network"
   ]
  },
  {
   "cell_type": "code",
   "execution_count": 325,
   "metadata": {},
   "outputs": [],
   "source": [
    "from utils import *\n",
    "from stratified import *\n",
    "from run import *"
   ]
  },
  {
   "cell_type": "code",
   "execution_count": 326,
   "metadata": {},
   "outputs": [],
   "source": [
    "layerdataparameter = [4,5,4] # [First layer, Second layer, Third layer]"
   ]
  },
  {
   "cell_type": "code",
   "execution_count": 327,
   "metadata": {},
   "outputs": [],
   "source": [
    "def importhousedata():\n",
    "    house = importfile('hw3_house_votes_84.csv', ',')\n",
    "    housecategory = {}\n",
    "    for i in house[0]:\n",
    "        housecategory[i] = 'categorical'\n",
    "    housecategory[\"class\"] = 'class'\n",
    "    housedata = np.array(house[1:]).astype(float)\n",
    "    return housedata, housecategory"
   ]
  },
  {
   "cell_type": "code",
   "execution_count": 328,
   "metadata": {},
   "outputs": [],
   "source": [
    "from sklearn.preprocessing import OneHotEncoder\n",
    "house_data, house_category = importhousedata()\n",
    "example_category = {'ece': 'categorical','cs': 'categorical','phy': 'categorical','math': 'categorical','musi': 'categorical','grade': 'class'}\n",
    "example_data = np.array([[1,0,1,1,0,0],[1,1,0,1,1,1],[0,1,0,0,0,2]])"
   ]
  },
  {
   "cell_type": "code",
   "execution_count": 329,
   "metadata": {},
   "outputs": [],
   "source": [
    "def onehotencoder(data,category):\n",
    "    dataT=data.T.copy()\n",
    "    enc = OneHotEncoder(sparse=False)\n",
    "    i = 0\n",
    "    appendeddict = {}\n",
    "    for cat in category:\n",
    "        if category[cat] == 'categorical':\n",
    "            hotneeded = dataT[i]\n",
    "            hotted = enc.fit_transform(hotneeded.reshape(-1,1))\n",
    "            for j in enc.categories_[0]:\n",
    "                newname = cat+'_'+str(j)\n",
    "                appendeddict[newname] = 'numerical'\n",
    "            dataT = np.append(dataT,hotted.T,axis=0)\n",
    "        if category[cat] == 'class':\n",
    "            hotneeded = dataT[i]\n",
    "            hotted = enc.fit_transform(hotneeded.reshape(-1,1))\n",
    "            for class_ in enc.categories_[0]:\n",
    "                newname = cat+'_'+str(class_)\n",
    "                appendeddict[newname] = 'class_numerical'\n",
    "            dataT = np.append(dataT,hotted.T,axis=0)\n",
    "        i += 1\n",
    "    \n",
    "    category.update(appendeddict)\n",
    "    i = 0\n",
    "    categorycopy = category.copy()\n",
    "    droplist = []\n",
    "    for cat in category:\n",
    "        if category[cat] == 'categorical' or category[cat] == 'class':\n",
    "            droplist.append(i)\n",
    "            categorycopy.pop(cat)\n",
    "        i += 1\n",
    "    dataT = np.delete(dataT,droplist,axis=0)\n",
    "    return dataT.T, categorycopy\n",
    "            "
   ]
  },
  {
   "cell_type": "code",
   "execution_count": 330,
   "metadata": {},
   "outputs": [],
   "source": [
    "ohe_house_data, ohe_house_category = onehotencoder(house_data,house_category)\n"
   ]
  },
  {
   "cell_type": "code",
   "execution_count": 331,
   "metadata": {},
   "outputs": [
    {
     "name": "stdout",
     "output_type": "stream",
     "text": [
      "50\n",
      "50\n"
     ]
    }
   ],
   "source": [
    "print(len(ohe_house_data.T))\n",
    "print(len(ohe_house_category))"
   ]
  },
  {
   "cell_type": "code",
   "execution_count": 332,
   "metadata": {},
   "outputs": [
    {
     "name": "stdout",
     "output_type": "stream",
     "text": [
      "[[0. 1. 0. 0. 1. 0.]\n",
      " [1. 0. 1. 0. 0. 1.]\n",
      " [0. 0. 0. 1. 0. 0.]]\n",
      "[array([[0., 1., 0., 0., 1., 0.],\n",
      "       [1., 0., 1., 0., 0., 1.],\n",
      "       [0., 0., 0., 1., 0., 0.]])]\n",
      "0\n",
      "1\n",
      "2\n"
     ]
    }
   ],
   "source": [
    "enc = OneHotEncoder(sparse=False)\n",
    "empty = []\n",
    "example2 = np.array([1,0,1,2,0,1])\n",
    "exed= example2.reshape(1,-1)\n",
    "hotted = enc.fit_transform(example2.reshape(-1,1))\n",
    "empty.append(hotted.T)\n",
    "print(hotted.T)\n",
    "print(empty)\n",
    "for i in enc.categories_[0]:\n",
    "    print(i)\n",
    "\n",
    "\n"
   ]
  }
 ],
 "metadata": {
  "interpreter": {
   "hash": "aee8b7b246df8f9039afb4144a1f6fd8d2ca17a180786b69acc140d282b71a49"
  },
  "kernelspec": {
   "display_name": "Python 3.10.0 64-bit",
   "language": "python",
   "name": "python3"
  },
  "language_info": {
   "codemirror_mode": {
    "name": "ipython",
    "version": 3
   },
   "file_extension": ".py",
   "mimetype": "text/x-python",
   "name": "python",
   "nbconvert_exporter": "python",
   "pygments_lexer": "ipython3",
   "version": "3.10.0"
  },
  "orig_nbformat": 4
 },
 "nbformat": 4,
 "nbformat_minor": 2
}
