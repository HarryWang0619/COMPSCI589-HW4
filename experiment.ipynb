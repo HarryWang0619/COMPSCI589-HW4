{
 "cells": [
  {
   "cell_type": "markdown",
   "metadata": {},
   "source": [
    "# My Playground for Neural Network"
   ]
  },
  {
   "cell_type": "code",
   "execution_count": 453,
   "metadata": {},
   "outputs": [],
   "source": [
    "from utils import *\n",
    "from stratified import *\n",
    "from run import *"
   ]
  },
  {
   "cell_type": "code",
   "execution_count": 454,
   "metadata": {},
   "outputs": [],
   "source": [
    "def importhousedata():\n",
    "    house = importfile('hw3_house_votes_84.csv', ',')\n",
    "    housecategory = {}\n",
    "    for i in house[0]:\n",
    "        housecategory[i] = 'categorical'\n",
    "    housecategory[\"class\"] = 'class'\n",
    "    housedata = np.array(house[1:]).astype(float)\n",
    "    return housedata, housecategory\n",
    "def importwinedata():\n",
    "    wine = importfile('hw3_wine.csv', '\\t')\n",
    "    winecategory = {}\n",
    "    for i in wine[0]:\n",
    "        winecategory[i] = 'numerical'\n",
    "    winecategory[\"# class\"] = 'class'\n",
    "    winedata = np.array(wine[1:]).astype(float)\n",
    "    return winedata, winecategory\n",
    "def importcmcdata():\n",
    "    cmc = importfile('cmc.data', ',')\n",
    "    cmccategory = {\"Wife's age\":\"numerical\",\"Wife's education\":\"categorical\",\n",
    "    \"Husband's education\":\"categorical\",\"Number of children ever born\":\"numerical\",\n",
    "    \"Wife's religion\":\"binary\",\"Wife's now working?\":\"binary\",\n",
    "    \"Husband's occupation\":\"categorical\",\"Standard-of-living index\":\"categorical\",\n",
    "    \"Media exposure\":\"binary\",\"Contraceptive method used\":\"class\"}\n",
    "    cmcdata = np.array(cmc).astype(int)\n",
    "    return cmcdata, cmccategory\n",
    "def importcancerdata():\n",
    "    cancer = importfile('hw3_cancer.csv', '\\t')\n",
    "    cancercategory = {}\n",
    "    for i in cancer[0]:\n",
    "        cancercategory[i] = 'numerical'\n",
    "    cancercategory[\"Class\"] = 'class'\n",
    "    cancerdata = np.array(cancer[1:]).astype(float)\n",
    "    return cancerdata, cancercategory\n",
    "\n",
    "housedata, housecategory = importhousedata()\n",
    "winedata, winecategory = importwinedata()\n",
    "cmcdata,cmccategory = importcmcdata()\n",
    "cancerdata, cancercategory = importcancerdata()\n",
    "example_category = {'ece': 'numerical','cs': 'categorical','phy': 'categorical','math': 'categorical','musi': 'categorical','grade': 'class'}\n",
    "#example_data = np.array([[100,0,1,1,0,0],[123,1,0,1,1,1],[44,1,0,0,0,2],[92,1,0,1,0,3],[73,0,1,0,0,2]])\n",
    "example_data = np.array([[10,0,1,1,0,0],[23,1,0,1,1,1],[44,1,0,0,0,2],[92,1,0,1,0,3],[73,0,1,0,0,2],[122,0,1,1,0,0],[124,1,0,1,1,1],[44,1,0,0,0,2],[40,1,0,1,0,3],[73,0,1,0,0,2]])"
   ]
  },
  {
   "cell_type": "code",
   "execution_count": 455,
   "metadata": {},
   "outputs": [],
   "source": [
    "ohe_house_data, ohe_house_category = onehotencoder(housedata, housecategory)\n",
    "ohe_wine_data, ohe_wine_category = onehotencoder(winedata,winecategory)\n",
    "ohe_cmc_data, ohe_cmc_category = onehotencoder(cmcdata,cmccategory)\n",
    "ohe_example_data, ohe_example_category = onehotencoder(example_data,example_category)\n",
    "ohe_cancer_data, ohe_cancer_category = onehotencoder(cancerdata,cancercategory)"
   ]
  },
  {
   "cell_type": "code",
   "execution_count": 456,
   "metadata": {},
   "outputs": [],
   "source": [
    "def g(x): # sigmoid function\n",
    "    return np.exp(x) / (1 + np.exp(x))"
   ]
  },
  {
   "cell_type": "code",
   "execution_count": 457,
   "metadata": {},
   "outputs": [],
   "source": [
    "def initialize_weights(ohe_category,layer_parameter, biasterm=True):\n",
    "    weight_matrix_list = []\n",
    "\n",
    "    inputcategory, outputcategory = [],[]\n",
    "    inputindex, outputindex = [],[]\n",
    "    n = 0\n",
    "    for i in ohe_category:\n",
    "        if ohe_category[i] != 'class_numerical':\n",
    "            inputcategory.append(i) # name of the input category\n",
    "            inputindex.append(n) # index of the input category\n",
    "        else:\n",
    "            outputcategory.append(i) # name of the output category  \n",
    "            outputindex.append(n) # index of the output category\n",
    "        n += 1\n",
    "    \n",
    "    b = 1 if biasterm == True else 0\n",
    "    \n",
    "    updatedlayerparameterwbias = [len(inputcategory)+b] + list(np.array(layer_parameter)+b) + [len(outputcategory)] # [inputlayer, layerparameters, outputlayer]\n",
    "    for i in range(len(updatedlayerparameterwbias)-1):\n",
    "        layernow = updatedlayerparameterwbias[i]\n",
    "        layernext = updatedlayerparameterwbias[i+1]\n",
    "        init_weight = np.random.rand(layernext,layernow) * 2 - 1 # initialize the weight with random number between -1 and 1\n",
    "        weight_matrix_list.append(init_weight)\n",
    "        \n",
    "    return weight_matrix_list"
   ]
  },
  {
   "cell_type": "code",
   "execution_count": 458,
   "metadata": {},
   "outputs": [],
   "source": [
    "# Forward propagation vectorized\n",
    "def forward_network(normed_hotted_data,ohe_category,weights_list,biasterm=True, minibatchk = 15):\n",
    "    normed_ohe_copy = normed_hotted_data.copy()\n",
    "    np.random.shuffle(normed_ohe_copy)\n",
    "    splitted = np.array_split(normed_ohe_copy, minibatchk)\n",
    "    # random_indices = np.random.choice(435, size=k, replace=False)\n",
    "    # random_batch = normed_hotted_data[random_indices].T\n",
    "    \n",
    "    inputcategory, outputcategory = [],[]\n",
    "    inputindex, outputindex = [],[]\n",
    "    n = 0\n",
    "    for i in ohe_category:\n",
    "        if ohe_category[i] != 'class_numerical':\n",
    "            inputcategory.append(i) # name of the input category\n",
    "            inputindex.append(n) # index of the input category\n",
    "        else:\n",
    "            outputcategory.append(i) # name of the output category\n",
    "            outputindex.append(n) # index of the output category\n",
    "        n += 1\n",
    "    \n",
    "    b = 1 if biasterm else 0\n",
    "    \n",
    "    batchnow = 0\n",
    "    for onebatch in splitted:\n",
    "        print(batchnow,'batch')\n",
    "        onebatch = onebatch.T\n",
    "        input_data = onebatch[inputindex].mean(axis=1)\n",
    "        output_data = onebatch[outputindex].mean(axis=1)\n",
    "        input_data = np.append(1,input_data) if b == 1 else input_data\n",
    "\n",
    "        current_layer_a = input_data # input layer is the current layer\n",
    "        current_layer_index = 0\n",
    "        for theta in weights_list:\n",
    "            print(current_layer_index,'layer')\n",
    "            z = np.dot(theta,current_layer_a)\n",
    "            a = g(z)\n",
    "            current_layer_a = np.append(1,a) if (b == 1) and (current_layer_index != len(weights_list)) else a\n",
    "            current_layer_index += 1\n",
    "        \n",
    "        batchnow += 1\n",
    "    # random_batch_input = random_batch[inputindex].mean(axis=1)\n",
    "\n",
    "    \n",
    "    a_lists = [] # list of np.array matrix, attribute of each layer\n",
    "    for i in range(len(weights_list)):\n",
    "        pass\n",
    "\n",
    "    return input_data"
   ]
  },
  {
   "cell_type": "code",
   "execution_count": 459,
   "metadata": {},
   "outputs": [
    {
     "name": "stdout",
     "output_type": "stream",
     "text": [
      "[[ 1  2  3]\n",
      " [ 4  5  6]\n",
      " [10 11 12]]\n",
      "[ 2.  5. 11.]\n",
      "[ 1.  2.  5. 11.]\n",
      "[[-0.36065125  0.50793159  0.04274046]\n",
      " [ 0.6151486  -0.8718554  -0.85376038]\n",
      " [ 0.88521846 -0.66044439  0.78018998]\n",
      " [-0.14283832  0.77486233  0.69470604]\n",
      " [ 0.27607971 -0.88339884 -0.72146218]]\n",
      "[  2.28850047 -12.52034393   7.05030477  11.23040141 -11.80091875]\n"
     ]
    }
   ],
   "source": [
    "w = [[1,2,3],[4,5,6],[7,8,9],[10,11,12]]\n",
    "indice = [0,1,3]\n",
    "w = np.array(w)\n",
    "z = w[indice]\n",
    "print(z)\n",
    "input = z.mean(axis=1)\n",
    "print(input)\n",
    "input_data = np.append(1,input)\n",
    "print(input_data)\n",
    "haihaihai = np.random.rand(5,3) * 2 - 1\n",
    "print(haihaihai)\n",
    "nextz = np.dot(haihaihai,input)\n",
    "print(nextz)"
   ]
  },
  {
   "cell_type": "code",
   "execution_count": 460,
   "metadata": {},
   "outputs": [
    {
     "name": "stdout",
     "output_type": "stream",
     "text": [
      "[5, 6, 5, 2]\n",
      "0 batch\n"
     ]
    },
    {
     "ename": "ValueError",
     "evalue": "shapes (6,5) and (6,) not aligned: 5 (dim 1) != 6 (dim 0)",
     "output_type": "error",
     "traceback": [
      "\u001b[0;31m---------------------------------------------------------------------------\u001b[0m",
      "\u001b[0;31mValueError\u001b[0m                                Traceback (most recent call last)",
      "\u001b[0;32m/var/folders/q6/30jjmbqn0gn55mvg8gm200nh0000gn/T/ipykernel_56414/4154306487.py\u001b[0m in \u001b[0;36m<module>\u001b[0;34m\u001b[0m\n\u001b[1;32m      2\u001b[0m \u001b[0mweights\u001b[0m \u001b[0;34m=\u001b[0m \u001b[0minitialize_weights\u001b[0m\u001b[0;34m(\u001b[0m\u001b[0mohe_house_category\u001b[0m\u001b[0;34m,\u001b[0m\u001b[0mlayerdataparameter\u001b[0m\u001b[0;34m)\u001b[0m\u001b[0;34m\u001b[0m\u001b[0;34m\u001b[0m\u001b[0m\n\u001b[1;32m      3\u001b[0m \u001b[0mprint\u001b[0m\u001b[0;34m(\u001b[0m\u001b[0;34m[\u001b[0m\u001b[0mlen\u001b[0m\u001b[0;34m(\u001b[0m\u001b[0mi\u001b[0m\u001b[0;34m)\u001b[0m \u001b[0;32mfor\u001b[0m \u001b[0mi\u001b[0m \u001b[0;32min\u001b[0m \u001b[0mweights\u001b[0m\u001b[0;34m]\u001b[0m\u001b[0;34m)\u001b[0m\u001b[0;34m\u001b[0m\u001b[0;34m\u001b[0m\u001b[0m\n\u001b[0;32m----> 4\u001b[0;31m \u001b[0mkk\u001b[0m \u001b[0;34m=\u001b[0m \u001b[0mforward_network\u001b[0m\u001b[0;34m(\u001b[0m\u001b[0mohe_house_data\u001b[0m\u001b[0;34m,\u001b[0m\u001b[0mohe_house_category\u001b[0m\u001b[0;34m,\u001b[0m\u001b[0mweights\u001b[0m\u001b[0;34m)\u001b[0m\u001b[0;34m\u001b[0m\u001b[0;34m\u001b[0m\u001b[0m\n\u001b[0m\u001b[1;32m      5\u001b[0m \u001b[0mprint\u001b[0m\u001b[0;34m(\u001b[0m\u001b[0mkk\u001b[0m\u001b[0;34m)\u001b[0m\u001b[0;34m\u001b[0m\u001b[0;34m\u001b[0m\u001b[0m\n",
      "\u001b[0;32m/var/folders/q6/30jjmbqn0gn55mvg8gm200nh0000gn/T/ipykernel_56414/1089025422.py\u001b[0m in \u001b[0;36mforward_network\u001b[0;34m(normed_hotted_data, ohe_category, weights_list, biasterm, minibatchk)\u001b[0m\n\u001b[1;32m     32\u001b[0m         \u001b[0mcurrent_layer_index\u001b[0m \u001b[0;34m=\u001b[0m \u001b[0;36m0\u001b[0m\u001b[0;34m\u001b[0m\u001b[0;34m\u001b[0m\u001b[0m\n\u001b[1;32m     33\u001b[0m         \u001b[0;32mfor\u001b[0m \u001b[0mtheta\u001b[0m \u001b[0;32min\u001b[0m \u001b[0mweights_list\u001b[0m\u001b[0;34m:\u001b[0m\u001b[0;34m\u001b[0m\u001b[0;34m\u001b[0m\u001b[0m\n\u001b[0;32m---> 34\u001b[0;31m             \u001b[0mz\u001b[0m \u001b[0;34m=\u001b[0m \u001b[0mnp\u001b[0m\u001b[0;34m.\u001b[0m\u001b[0mdot\u001b[0m\u001b[0;34m(\u001b[0m\u001b[0mtheta\u001b[0m\u001b[0;34m,\u001b[0m\u001b[0mcurrent_layer_a\u001b[0m\u001b[0;34m)\u001b[0m\u001b[0;34m\u001b[0m\u001b[0;34m\u001b[0m\u001b[0m\n\u001b[0m\u001b[1;32m     35\u001b[0m             \u001b[0ma\u001b[0m \u001b[0;34m=\u001b[0m \u001b[0mg\u001b[0m\u001b[0;34m(\u001b[0m\u001b[0mz\u001b[0m\u001b[0;34m)\u001b[0m\u001b[0;34m\u001b[0m\u001b[0;34m\u001b[0m\u001b[0m\n\u001b[1;32m     36\u001b[0m             \u001b[0mcurrent_layer_a\u001b[0m \u001b[0;34m=\u001b[0m \u001b[0mnp\u001b[0m\u001b[0;34m.\u001b[0m\u001b[0mappend\u001b[0m\u001b[0;34m(\u001b[0m\u001b[0;36m1\u001b[0m\u001b[0;34m,\u001b[0m\u001b[0ma\u001b[0m\u001b[0;34m)\u001b[0m \u001b[0;32mif\u001b[0m \u001b[0;34m(\u001b[0m\u001b[0mb\u001b[0m \u001b[0;34m==\u001b[0m \u001b[0;36m1\u001b[0m\u001b[0;34m)\u001b[0m \u001b[0;32mand\u001b[0m \u001b[0;34m(\u001b[0m\u001b[0mcurrent_layer_index\u001b[0m \u001b[0;34m!=\u001b[0m \u001b[0mlen\u001b[0m\u001b[0;34m(\u001b[0m\u001b[0mweights_list\u001b[0m\u001b[0;34m)\u001b[0m\u001b[0;34m)\u001b[0m \u001b[0;32melse\u001b[0m \u001b[0ma\u001b[0m\u001b[0;34m\u001b[0m\u001b[0;34m\u001b[0m\u001b[0m\n",
      "\u001b[0;32m<__array_function__ internals>\u001b[0m in \u001b[0;36mdot\u001b[0;34m(*args, **kwargs)\u001b[0m\n",
      "\u001b[0;31mValueError\u001b[0m: shapes (6,5) and (6,) not aligned: 5 (dim 1) != 6 (dim 0)"
     ]
    }
   ],
   "source": [
    "layerdataparameter = [4,5,4] # [First layer, Second layer, Third layer], not including the bias and input & output layer\n",
    "weights = initialize_weights(ohe_house_category,layerdataparameter)\n",
    "print([len(i) for i in weights])\n",
    "kk = forward_network(ohe_house_data,ohe_house_category,weights)\n",
    "print(kk)"
   ]
  },
  {
   "cell_type": "code",
   "execution_count": null,
   "metadata": {},
   "outputs": [
    {
     "name": "stdout",
     "output_type": "stream",
     "text": [
      "8\n",
      "8\n",
      "[[ 9 10]\n",
      " [11 12]\n",
      " [ 7  8]\n",
      " [ 1  2]\n",
      " [13 14]]\n"
     ]
    }
   ],
   "source": [
    "k = 5\n",
    "wok = np.array([[1,2],[3,4],[5,6],[7,8],[9,10],[11,12],[13,14],[15,16]])\n",
    "whaha = len(wok)\n",
    "print(whaha)\n",
    "print(wok.shape[0])\n",
    "random_indices = np.random.choice(whaha, size=k, replace=False)\n",
    "random_rows = wok[random_indices]\n",
    "print(random_rows)"
   ]
  },
  {
   "cell_type": "code",
   "execution_count": null,
   "metadata": {},
   "outputs": [
    {
     "name": "stdout",
     "output_type": "stream",
     "text": [
      "[[ 0.94890886  0.36993194 -0.35456241]\n",
      " [-0.69162407  0.27041438  0.23202255]]\n",
      "[[0.26314019]\n",
      " [0.79083739]\n",
      " [0.67633022]]\n",
      "[[0.3024508 ]\n",
      " [0.18878358]]\n"
     ]
    }
   ],
   "source": [
    "layernow = 3\n",
    "layernext = 2\n",
    "init_weight = np.random.rand(layernext,layernow) * 2 - 1\n",
    "a_now = np.random.rand(layernow,1)\n",
    "print(init_weight)\n",
    "print(a_now)\n",
    "c = np.dot(init_weight,a_now)\n",
    "print(c)"
   ]
  }
 ],
 "metadata": {
  "interpreter": {
   "hash": "aee8b7b246df8f9039afb4144a1f6fd8d2ca17a180786b69acc140d282b71a49"
  },
  "kernelspec": {
   "display_name": "Python 3.10.0 64-bit",
   "language": "python",
   "name": "python3"
  },
  "language_info": {
   "codemirror_mode": {
    "name": "ipython",
    "version": 3
   },
   "file_extension": ".py",
   "mimetype": "text/x-python",
   "name": "python",
   "nbconvert_exporter": "python",
   "pygments_lexer": "ipython3",
   "version": "3.10.0"
  },
  "orig_nbformat": 4
 },
 "nbformat": 4,
 "nbformat_minor": 2
}
